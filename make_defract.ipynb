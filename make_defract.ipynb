{
 "cells": [
  {
   "cell_type": "code",
   "execution_count": null,
   "id": "823b5257",
   "metadata": {},
   "outputs": [],
   "source": [
    "from functions import *"
   ]
  },
  {
   "cell_type": "code",
   "execution_count": null,
   "id": "eb3e20b4",
   "metadata": {},
   "outputs": [],
   "source": [
    "#here specify which community it is, either 'bact' or 'chloro'\n",
    "comm = 'chloro'\n",
    "biomelted, md = import_docs(comm)"
   ]
  },
  {
   "cell_type": "code",
   "execution_count": null,
   "id": "4250baae",
   "metadata": {},
   "outputs": [],
   "source": [
    "#sort the concentrations to check they are all positive\n",
    "md.sort_values('Concentration').head()"
   ]
  },
  {
   "cell_type": "code",
   "execution_count": null,
   "id": "b3caf2b3",
   "metadata": {},
   "outputs": [],
   "source": [
    "#remove the samples with a negative DNA concentration because we can't calculate that new feature frequency\n",
    "samples_to_exclude = ['CE_8L-BD_D7']\n",
    "\n",
    "#exclude those samples\n",
    "md_SF = md[~md['ID3'].isin(samples_to_exclude)]"
   ]
  },
  {
   "cell_type": "code",
   "execution_count": null,
   "id": "0f0fe684",
   "metadata": {},
   "outputs": [],
   "source": [
    "merged, sepSLRA, newbiom = make_defract(comm, biomelted, md)"
   ]
  },
  {
   "cell_type": "code",
   "execution_count": null,
   "id": "64b49f5d",
   "metadata": {},
   "outputs": [],
   "source": [
    "#just check which samples didn't match between the metadata and the ASV table\n",
    "df2 = merged.DNApr.isnull().groupby([merged['sample_id']]).sum().astype(int).reset_index(name='counts')\n",
    "sep_mismatch = df2[df2.counts != 0]\n",
    "sep_mismatch #it's only the top, base, .."
   ]
  }
 ],
 "metadata": {
  "kernelspec": {
   "display_name": "qiime2-2023.5",
   "language": "python",
   "name": "qiime2-2023.5"
  },
  "language_info": {
   "codemirror_mode": {
    "name": "ipython",
    "version": 3
   },
   "file_extension": ".py",
   "mimetype": "text/x-python",
   "name": "python",
   "nbconvert_exporter": "python",
   "pygments_lexer": "ipython3",
   "version": "3.8.16"
  }
 },
 "nbformat": 4,
 "nbformat_minor": 5
}
